{
 "cells": [
  {
   "cell_type": "code",
   "execution_count": 5,
   "metadata": {},
   "outputs": [],
   "source": [
    "from PIL import Image\n",
    "Image.MAX_IMAGE_PIXELS = None\n",
    "\n",
    "import pandas as pd\n",
    "\n",
    "# Load the annotations file\n",
    "annotations_file_path = 'Osteo_Fibro_MSC_Annotations.txt'\n",
    "annotations_df = pd.read_csv(annotations_file_path, delimiter='\\t')"
   ]
  },
  {
   "cell_type": "code",
   "execution_count": null,
   "metadata": {},
   "outputs": [],
   "source": [
    "# Iterate through each row in the annotations file\n",
    "loaded_images = {}\n",
    "\n",
    "for index, row in annotations_df.iterrows():\n",
    "    print(index)\n",
    "    # Extract necessary information from the row\n",
    "    image_path = f\"Bone_Annotations/{row['Image'].split(' ')[0]} - resolution #1-bone-labels.png\"\n",
    "    \n",
    "    # Load the image only if it hasn't been loaded before\n",
    "    if image_path not in loaded_images:\n",
    "        loaded_images[image_path] = Image.open(image_path)\n",
    "\n",
    "    x_coordinate = int(row['centroid_x_pixel'])\n",
    "    y_coordinate = int(row['centroid_y_pixel'])\n",
    "\n",
    "    # Get the pixel value at the specified coordinates\n",
    "    pixel_value = loaded_images[image_path].getpixel((x_coordinate, y_coordinate))\n",
    "\n",
    "    # Update the DataFrame with the pixel value\n",
    "    annotations_df.at[index, 'Pixel_Value'] = pixel_value"
   ]
  },
  {
   "cell_type": "code",
   "execution_count": 7,
   "metadata": {},
   "outputs": [],
   "source": [
    "# Write the updated DataFrame to a new text file\n",
    "output_file_path = 'Osteo_Fibro_MSC_Annotations_2.txt'\n",
    "annotations_df.to_csv(output_file_path, sep='\\t', index=False)"
   ]
  },
  {
   "cell_type": "code",
   "execution_count": 8,
   "metadata": {},
   "outputs": [],
   "source": [
    "#Reload and print out the points that are overlapping bone \n",
    "# Load the updated annotations file\n",
    "updated_annotations_file_path = 'Osteo_Fibro_MSC_Annotations_2.txt'\n",
    "updated_annotations_df = pd.read_csv(updated_annotations_file_path, delimiter='\\t')\n",
    "\n",
    "# Filter rows where Pixel_Value equals 1.0\n",
    "filtered_df = updated_annotations_df[updated_annotations_df['Pixel_Value'] == 1.0]\n",
    "\n",
    "# Create a new DataFrame with required columns x0, y0, x1, y1\n",
    "new_df = pd.DataFrame({\n",
    "    'sample' : filtered_df['Sample'],\n",
    "    'celltype' : filtered_df['Classification'],\n",
    "    'x0': filtered_df['centroid_x_pixel'],\n",
    "    'y0': filtered_df['centroid_y_pixel'],\n",
    "    'x1': filtered_df['centroid_x_pixel'],\n",
    "    'y1': filtered_df['centroid_y_pixel'] + 1\n",
    "})\n",
    "\n",
    "# Write the new DataFrame to a new text file\n",
    "output_file_path = 'Osteo_Fibro_MSC_on_Bone.txt'\n",
    "new_df.to_csv(output_file_path, sep='\\t', index=False)"
   ]
  }
 ],
 "metadata": {
  "kernelspec": {
   "display_name": "Python 3",
   "language": "python",
   "name": "python3"
  },
  "language_info": {
   "codemirror_mode": {
    "name": "ipython",
    "version": 3
   },
   "file_extension": ".py",
   "mimetype": "text/x-python",
   "name": "python",
   "nbconvert_exporter": "python",
   "pygments_lexer": "ipython3",
   "version": "3.11.4"
  }
 },
 "nbformat": 4,
 "nbformat_minor": 2
}
