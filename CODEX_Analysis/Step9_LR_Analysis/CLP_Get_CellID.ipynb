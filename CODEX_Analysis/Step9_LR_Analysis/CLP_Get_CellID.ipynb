{
 "cells": [
  {
   "cell_type": "code",
   "execution_count": 15,
   "metadata": {},
   "outputs": [],
   "source": [
    "from PIL import Image\n",
    "Image.MAX_IMAGE_PIXELS = None\n",
    "\n",
    "import pandas as pd\n",
    "\n",
    "# Load the annotations file\n",
    "annotations_df_67 = pd.read_csv('CLP Annotation Measurements_NBM67.txt', delimiter='\\t')\n",
    "annotations_df_70 = pd.read_csv('CLP Annotation Measurements_NBM70.txt', delimiter='\\t')"
   ]
  },
  {
   "cell_type": "code",
   "execution_count": 16,
   "metadata": {},
   "outputs": [],
   "source": [
    "NBM67_seg = Image.open(\"NBM67_segmentation_cell.tif\")\n",
    "NBM70_seg = Image.open(\"NBM70_segmentation_cell.tif\")"
   ]
  },
  {
   "cell_type": "code",
   "execution_count": 20,
   "metadata": {},
   "outputs": [],
   "source": [
    "NBM67_seg = Image.open(\"NBM67_segmentation_cell.tif\")\n",
    "for index, row in annotations_df_67.iterrows():\n",
    "    x_coordinate = int(row['centroid_x_pixel'])\n",
    "    y_coordinate = int(row['centroid_y_pixel'])\n",
    "\n",
    "    # Get the pixel value at the specified coordinates\n",
    "    pixel_value = int(NBM67_seg.getpixel((x_coordinate, y_coordinate)))\n",
    "\n",
    "    # Update the DataFrame with the pixel value\n",
    "    annotations_df_67.at[index, 'Pixel_Value'] = pixel_value\n",
    "\n",
    "# Write the updated DataFrame to a new text file\n",
    "output_file_path = 'NBM67_CLP_CellID.txt'\n",
    "annotations_df_67.to_csv(output_file_path, sep='\\t', index=False)"
   ]
  },
  {
   "cell_type": "code",
   "execution_count": 23,
   "metadata": {},
   "outputs": [],
   "source": [
    "NBM70_seg = Image.open(\"NBM70_segmentation_cell.tif\")\n",
    "for index, row in annotations_df_70.iterrows():\n",
    "    x_coordinate = int(row['centroid_x_pixel'])\n",
    "    y_coordinate = int(row['centroid_y_pixel'])\n",
    "\n",
    "    # Get the pixel value at the specified coordinates\n",
    "    pixel_value = int(NBM70_seg.getpixel((x_coordinate, y_coordinate)))\n",
    "\n",
    "    # Update the DataFrame with the pixel value\n",
    "    annotations_df_70.at[index, 'Pixel_Value'] = pixel_value\n",
    "\n",
    "# Write the updated DataFrame to a new text file\n",
    "output_file_path = 'NBM70_CLP_CellID.txt'\n",
    "annotations_df_70.to_csv(output_file_path, sep='\\t', index=False)"
   ]
  }
 ],
 "metadata": {
  "kernelspec": {
   "display_name": "Python 3",
   "language": "python",
   "name": "python3"
  },
  "language_info": {
   "codemirror_mode": {
    "name": "ipython",
    "version": 3
   },
   "file_extension": ".py",
   "mimetype": "text/x-python",
   "name": "python",
   "nbconvert_exporter": "python",
   "pygments_lexer": "ipython3",
   "version": "3.11.4"
  }
 },
 "nbformat": 4,
 "nbformat_minor": 2
}
